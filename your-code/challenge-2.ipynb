{
 "cells": [
  {
   "cell_type": "markdown",
   "metadata": {},
   "source": [
    "# Challenge 2\n",
    "\n",
    "In this challenge we will continue working with the `Pokemon` dataset. We will attempt solving a slightly more complex problem in which we will practice the iterative data analysis process you leaned in [this video](https://www.youtube.com/watch?v=xOomNicqbkk).\n",
    "\n",
    "The problem statement is as follows:\n",
    "\n",
    "**You are at a Pokemon black market planning to buy a Pokemon for battle. All Pokemon are sold at the same price and you can only afford to buy one. You cannot choose which specific Pokemon to buy. However, you can specify the type of the Pokemon - one type that exists in either `Type 1` or `Type 2`. Which type should you choose in order to maximize your chance of receiving a good Pokemon?**\n",
    "\n",
    "To remind you about the 3 steps of iterative data analysis, they are:\n",
    "\n",
    "1. Setting Expectations\n",
    "1. Collecting Information\n",
    "1. Reacting to Data / Revising Expectations\n",
    "\n",
    "Following the iterative process, we'll guide you in completing the challenge."
   ]
  },
  {
   "cell_type": "markdown",
   "metadata": {},
   "source": [
    "\n",
    "## Problem Solving Iteration 1\n",
    "\n",
    "In this iteration we'll analyze the problem and identify the breakthrough. The original question statement is kind of vague because we don't know what a *good pokemon* really means as represented in the data. We'll start by understanding the dataset and see if we can find some insights."
   ]
  },
  {
   "cell_type": "code",
   "execution_count": 2,
   "metadata": {},
   "outputs": [],
   "source": [
    "# Import libraries\n",
    "import numpy as np\n",
    "import pandas as pd"
   ]
  },
  {
   "cell_type": "code",
   "execution_count": 15,
   "metadata": {
    "scrolled": true
   },
   "outputs": [
    {
     "data": {
      "text/html": [
       "<div>\n",
       "<style scoped>\n",
       "    .dataframe tbody tr th:only-of-type {\n",
       "        vertical-align: middle;\n",
       "    }\n",
       "\n",
       "    .dataframe tbody tr th {\n",
       "        vertical-align: top;\n",
       "    }\n",
       "\n",
       "    .dataframe thead th {\n",
       "        text-align: right;\n",
       "    }\n",
       "</style>\n",
       "<table border=\"1\" class=\"dataframe\">\n",
       "  <thead>\n",
       "    <tr style=\"text-align: right;\">\n",
       "      <th></th>\n",
       "      <th>#</th>\n",
       "      <th>Name</th>\n",
       "      <th>Type 1</th>\n",
       "      <th>Type 2</th>\n",
       "      <th>Total</th>\n",
       "      <th>HP</th>\n",
       "      <th>Attack</th>\n",
       "      <th>Defense</th>\n",
       "      <th>Sp. Atk</th>\n",
       "      <th>Sp. Def</th>\n",
       "      <th>Speed</th>\n",
       "      <th>Generation</th>\n",
       "      <th>Legendary</th>\n",
       "    </tr>\n",
       "  </thead>\n",
       "  <tbody>\n",
       "    <tr>\n",
       "      <th>0</th>\n",
       "      <td>1</td>\n",
       "      <td>Bulbasaur</td>\n",
       "      <td>Grass</td>\n",
       "      <td>Poison</td>\n",
       "      <td>318</td>\n",
       "      <td>45</td>\n",
       "      <td>49</td>\n",
       "      <td>49</td>\n",
       "      <td>65</td>\n",
       "      <td>65</td>\n",
       "      <td>45</td>\n",
       "      <td>1</td>\n",
       "      <td>False</td>\n",
       "    </tr>\n",
       "    <tr>\n",
       "      <th>1</th>\n",
       "      <td>2</td>\n",
       "      <td>Ivysaur</td>\n",
       "      <td>Grass</td>\n",
       "      <td>Poison</td>\n",
       "      <td>405</td>\n",
       "      <td>60</td>\n",
       "      <td>62</td>\n",
       "      <td>63</td>\n",
       "      <td>80</td>\n",
       "      <td>80</td>\n",
       "      <td>60</td>\n",
       "      <td>1</td>\n",
       "      <td>False</td>\n",
       "    </tr>\n",
       "    <tr>\n",
       "      <th>2</th>\n",
       "      <td>3</td>\n",
       "      <td>Venusaur</td>\n",
       "      <td>Grass</td>\n",
       "      <td>Poison</td>\n",
       "      <td>525</td>\n",
       "      <td>80</td>\n",
       "      <td>82</td>\n",
       "      <td>83</td>\n",
       "      <td>100</td>\n",
       "      <td>100</td>\n",
       "      <td>80</td>\n",
       "      <td>1</td>\n",
       "      <td>False</td>\n",
       "    </tr>\n",
       "    <tr>\n",
       "      <th>3</th>\n",
       "      <td>3</td>\n",
       "      <td>VenusaurMega Venusaur</td>\n",
       "      <td>Grass</td>\n",
       "      <td>Poison</td>\n",
       "      <td>625</td>\n",
       "      <td>80</td>\n",
       "      <td>100</td>\n",
       "      <td>123</td>\n",
       "      <td>122</td>\n",
       "      <td>120</td>\n",
       "      <td>80</td>\n",
       "      <td>1</td>\n",
       "      <td>False</td>\n",
       "    </tr>\n",
       "    <tr>\n",
       "      <th>4</th>\n",
       "      <td>4</td>\n",
       "      <td>Charmander</td>\n",
       "      <td>Fire</td>\n",
       "      <td>NaN</td>\n",
       "      <td>309</td>\n",
       "      <td>39</td>\n",
       "      <td>52</td>\n",
       "      <td>43</td>\n",
       "      <td>60</td>\n",
       "      <td>50</td>\n",
       "      <td>65</td>\n",
       "      <td>1</td>\n",
       "      <td>False</td>\n",
       "    </tr>\n",
       "    <tr>\n",
       "      <th>5</th>\n",
       "      <td>5</td>\n",
       "      <td>Charmeleon</td>\n",
       "      <td>Fire</td>\n",
       "      <td>NaN</td>\n",
       "      <td>405</td>\n",
       "      <td>58</td>\n",
       "      <td>64</td>\n",
       "      <td>58</td>\n",
       "      <td>80</td>\n",
       "      <td>65</td>\n",
       "      <td>80</td>\n",
       "      <td>1</td>\n",
       "      <td>False</td>\n",
       "    </tr>\n",
       "    <tr>\n",
       "      <th>6</th>\n",
       "      <td>6</td>\n",
       "      <td>Charizard</td>\n",
       "      <td>Fire</td>\n",
       "      <td>Flying</td>\n",
       "      <td>534</td>\n",
       "      <td>78</td>\n",
       "      <td>84</td>\n",
       "      <td>78</td>\n",
       "      <td>109</td>\n",
       "      <td>85</td>\n",
       "      <td>100</td>\n",
       "      <td>1</td>\n",
       "      <td>False</td>\n",
       "    </tr>\n",
       "    <tr>\n",
       "      <th>7</th>\n",
       "      <td>6</td>\n",
       "      <td>CharizardMega Charizard X</td>\n",
       "      <td>Fire</td>\n",
       "      <td>Dragon</td>\n",
       "      <td>634</td>\n",
       "      <td>78</td>\n",
       "      <td>130</td>\n",
       "      <td>111</td>\n",
       "      <td>130</td>\n",
       "      <td>85</td>\n",
       "      <td>100</td>\n",
       "      <td>1</td>\n",
       "      <td>False</td>\n",
       "    </tr>\n",
       "    <tr>\n",
       "      <th>8</th>\n",
       "      <td>6</td>\n",
       "      <td>CharizardMega Charizard Y</td>\n",
       "      <td>Fire</td>\n",
       "      <td>Flying</td>\n",
       "      <td>634</td>\n",
       "      <td>78</td>\n",
       "      <td>104</td>\n",
       "      <td>78</td>\n",
       "      <td>159</td>\n",
       "      <td>115</td>\n",
       "      <td>100</td>\n",
       "      <td>1</td>\n",
       "      <td>False</td>\n",
       "    </tr>\n",
       "    <tr>\n",
       "      <th>9</th>\n",
       "      <td>7</td>\n",
       "      <td>Squirtle</td>\n",
       "      <td>Water</td>\n",
       "      <td>NaN</td>\n",
       "      <td>314</td>\n",
       "      <td>44</td>\n",
       "      <td>48</td>\n",
       "      <td>65</td>\n",
       "      <td>50</td>\n",
       "      <td>64</td>\n",
       "      <td>43</td>\n",
       "      <td>1</td>\n",
       "      <td>False</td>\n",
       "    </tr>\n",
       "  </tbody>\n",
       "</table>\n",
       "</div>"
      ],
      "text/plain": [
       "   #                       Name Type 1  Type 2  Total  HP  Attack  Defense  \\\n",
       "0  1                  Bulbasaur  Grass  Poison    318  45      49       49   \n",
       "1  2                    Ivysaur  Grass  Poison    405  60      62       63   \n",
       "2  3                   Venusaur  Grass  Poison    525  80      82       83   \n",
       "3  3      VenusaurMega Venusaur  Grass  Poison    625  80     100      123   \n",
       "4  4                 Charmander   Fire     NaN    309  39      52       43   \n",
       "5  5                 Charmeleon   Fire     NaN    405  58      64       58   \n",
       "6  6                  Charizard   Fire  Flying    534  78      84       78   \n",
       "7  6  CharizardMega Charizard X   Fire  Dragon    634  78     130      111   \n",
       "8  6  CharizardMega Charizard Y   Fire  Flying    634  78     104       78   \n",
       "9  7                   Squirtle  Water     NaN    314  44      48       65   \n",
       "\n",
       "   Sp. Atk  Sp. Def  Speed  Generation  Legendary  \n",
       "0       65       65     45           1      False  \n",
       "1       80       80     60           1      False  \n",
       "2      100      100     80           1      False  \n",
       "3      122      120     80           1      False  \n",
       "4       60       50     65           1      False  \n",
       "5       80       65     80           1      False  \n",
       "6      109       85    100           1      False  \n",
       "7      130       85    100           1      False  \n",
       "8      159      115    100           1      False  \n",
       "9       50       64     43           1      False  "
      ]
     },
     "execution_count": 15,
     "metadata": {},
     "output_type": "execute_result"
    }
   ],
   "source": [
    "# Importing the dataset\n",
    "pokemon=pd.read_csv('pokemon.csv')\n",
    "pokemon.head(10)"
   ]
  },
  {
   "cell_type": "markdown",
   "metadata": {},
   "source": [
    "From the data it seems whether a pokemon is good depends on its abilities as represented in the fields of `HP`, `Attack`, `Defense`, `Sp. Atk`, `Sp. Def`, `Speed`, and `Total`. We are not sure about `Generation` and `Legendary` because they are not necessarily the decisive factors of the pokemon abilities.\n",
    "\n",
    "But `HP`, `Attack`, `Defense`, `Sp. Atk`, `Sp. Def`, `Speed`, and `Total` are a lot of fields! If we look at them all at once it's very complicated. This isn't Mission Impossible but it's ideal that we tackle this kind of problem after we learn Machine Learning (which you will do in Module 3). For now, is there a way to consolidate the fields we need to look into?\n",
    "\n",
    "Fortunately there seems to be a way. It appears the `Total` field is computed based on the other 6 fields. But we need to prove our theory. If we can approve there is a formula to compute `Total` based on the other 6 abilities, we only need to look into `Total`.\n",
    "\n",
    "We have the following expectation now:\n",
    "\n",
    "#### The `Total` field is computed based on `HP`, `Attack`, `Defense`, `Sp. Atk`, `Sp. Def`, and `Speed`.\n",
    "\n",
    "We need to collect the following information:\n",
    "\n",
    "* **What is the formula to compute `Total`?**\n",
    "* **Does the formula work for all pokemon?**\n",
    "\n",
    "In the cell below, make a hypothesis on how `Total` is computed and test your hypothesis."
   ]
  },
  {
   "cell_type": "code",
   "execution_count": null,
   "metadata": {},
   "outputs": [],
   "source": [
    "\n",
    "#https://www.kaggle.com/datasets/abcsds/pokemon\n",
    "#let's try Test_Total= HP+Attack+Defense+Sp. Atk+Sp. Def+Speed\n",
    "#let's then compare Test_Total to Total"
   ]
  },
  {
   "cell_type": "code",
   "execution_count": 8,
   "metadata": {},
   "outputs": [
    {
     "data": {
      "text/plain": [
       "array([0])"
      ]
     },
     "execution_count": 8,
     "metadata": {},
     "output_type": "execute_result"
    }
   ],
   "source": [
    "pokemon['Test_Total']=pokemon['HP']+pokemon['Attack']+pokemon['Defense']+pokemon['Sp. Atk']+pokemon['Sp. Def']+pokemon['Speed']\n",
    "#pokemon['Test_Total'].isnull().sum() #checking\n",
    "\n",
    "pokemon['Test_Total_Diff']=pokemon['Total']-pokemon['Test_Total']\n",
    "pokemon['Test_Total_Diff'].unique() #we only have zeros. Total and Test_Total are the same so formula worked"
   ]
  },
  {
   "cell_type": "markdown",
   "metadata": {},
   "source": [
    "## Problem Solving Iteration 2\n",
    "\n",
    "Now that we have consolidated the abilities fields, we can update the problem statement. The new problem statement is:\n",
    "\n",
    "### Which pokemon type is most likely to have the highest `Total` value?\n",
    "\n",
    "In the updated problem statement, we assume there is a certain relationship between the `Total` and the pokemon type. But we have two *type* fields (`Type 1` and `Type 2`) that have string values. In data analysis, string fields have to be transformed to numerical format in order to be analyzed. \n",
    "\n",
    "In addition, keep in mind that `Type 1` always has a value but `Type 2` is sometimes empty (having the `NaN` value). Also, the pokemon type we choose may be either in `Type 1` or `Type 2`.\n",
    "\n",
    "Now our expectation is:\n",
    "\n",
    "#### `Type 1` and `Type 2` string variables need to be converted to numerical variables in order to identify the relationship between `Total` and the pokemon type.\n",
    "\n",
    "The information we need to collect is:\n",
    "\n",
    "#### How to convert two string variables to numerical?\n",
    "\n",
    "Let's address the first question first. You can use a method called **One Hot Encoding** which is frequently used in machine learning to encode categorical string variables to numerical. The idea is to gather all the possible string values in a categorical field and create a numerical field for each unique string value. Each of those numerical fields uses `1` and `0` to indicate whether the data record has the corresponding categorical value. A detailed explanation of One Hot Encoding can be found in [this article](https://hackernoon.com/what-is-one-hot-encoding-why-and-when-do-you-have-to-use-it-e3c6186d008f). You will formally learn it in Module 3.\n",
    "\n",
    "For instance, if a pokemon has `Type 1` as `Poison` and `Type 2` as `Fire`, then its `Poison` and `Fire` fields are `1` whereas all other fields are `0`. If a pokemon has `Type 1` as `Water` and `Type 2` as `NaN`, then its `Water` field is `1` whereas all other fields are `0`.\n",
    "\n",
    "#### In the next cell, use One Hot Encoding to encode `Type 1` and `Type 2`. Use the pokemon type values as the names of the numerical fields you create.\n",
    "\n",
    "The new numerical variables you create should look like below:\n",
    "\n",
    "![One Hot Encoding](../images/one-hot-encoding.png)"
   ]
  },
  {
   "cell_type": "code",
   "execution_count": 9,
   "metadata": {},
   "outputs": [
    {
     "data": {
      "text/plain": [
       "array(['Grass', 'Fire', 'Water', 'Bug', 'Normal', 'Poison', 'Electric',\n",
       "       'Ground', 'Fairy', 'Fighting', 'Psychic', 'Rock', 'Ghost', 'Ice',\n",
       "       'Dragon', 'Dark', 'Steel', 'Flying'], dtype=object)"
      ]
     },
     "execution_count": 9,
     "metadata": {},
     "output_type": "execute_result"
    }
   ],
   "source": [
    "#define categorical columns\n",
    "X_cat = pokemon.select_dtypes(include = object)\n",
    "pokemon['Type 1'].unique()"
   ]
  },
  {
   "cell_type": "code",
   "execution_count": null,
   "metadata": {},
   "outputs": [],
   "source": [
    "from sklearn.preprocessing import OneHotEncoder\n",
    "encoder = OneHotEncoder().fit(X_cat)\n",
    "print(encoder.categories_)\n",
    "encoded = encoder.transform(X_cat).toarray()\n",
    "print(encoded)\n",
    "onehot_encoded = pd.DataFrame(encoded,columns=['Female', 'Male','U'])\n",
    "onehot_encoded.head(20)"
   ]
  },
  {
   "cell_type": "code",
   "execution_count": 16,
   "metadata": {},
   "outputs": [
    {
     "ename": "ValueError",
     "evalue": "Expected 2D array, got 1D array instead:\narray=['Grass' 'Grass' 'Grass' 'Grass' 'Fire' 'Fire' 'Fire' 'Fire' 'Fire'\n 'Water' 'Water' 'Water' 'Water' 'Bug' 'Bug' 'Bug' 'Bug' 'Bug' 'Bug' 'Bug'\n 'Normal' 'Normal' 'Normal' 'Normal' 'Normal' 'Normal' 'Normal' 'Normal'\n 'Poison' 'Poison' 'Electric' 'Electric' 'Ground' 'Ground' 'Poison'\n 'Poison' 'Poison' 'Poison' 'Poison' 'Poison' 'Fairy' 'Fairy' 'Fire'\n 'Fire' 'Normal' 'Normal' 'Poison' 'Poison' 'Grass' 'Grass' 'Grass' 'Bug'\n 'Bug' 'Bug' 'Bug' 'Ground' 'Ground' 'Normal' 'Normal' 'Water' 'Water'\n 'Fighting' 'Fighting' 'Fire' 'Fire' 'Water' 'Water' 'Water' 'Psychic'\n 'Psychic' 'Psychic' 'Psychic' 'Fighting' 'Fighting' 'Fighting' 'Grass'\n 'Grass' 'Grass' 'Water' 'Water' 'Rock' 'Rock' 'Rock' 'Fire' 'Fire'\n 'Water' 'Water' 'Water' 'Electric' 'Electric' 'Normal' 'Normal' 'Normal'\n 'Water' 'Water' 'Poison' 'Poison' 'Water' 'Water' 'Ghost' 'Ghost' 'Ghost'\n 'Ghost' 'Rock' 'Psychic' 'Psychic' 'Water' 'Water' 'Electric' 'Electric'\n 'Grass' 'Grass' 'Ground' 'Ground' 'Fighting' 'Fighting' 'Normal' 'Poison'\n 'Poison' 'Ground' 'Ground' 'Normal' 'Grass' 'Normal' 'Normal' 'Water'\n 'Water' 'Water' 'Water' 'Water' 'Water' 'Psychic' 'Bug' 'Ice' 'Electric'\n 'Fire' 'Bug' 'Bug' 'Normal' 'Water' 'Water' 'Water' 'Water' 'Normal'\n 'Normal' 'Water' 'Electric' 'Fire' 'Normal' 'Rock' 'Rock' 'Rock' 'Rock'\n 'Rock' 'Rock' 'Normal' 'Ice' 'Electric' 'Fire' 'Dragon' 'Dragon' 'Dragon'\n 'Psychic' 'Psychic' 'Psychic' 'Psychic' 'Grass' 'Grass' 'Grass' 'Fire'\n 'Fire' 'Fire' 'Water' 'Water' 'Water' 'Normal' 'Normal' 'Normal' 'Normal'\n 'Bug' 'Bug' 'Bug' 'Bug' 'Poison' 'Water' 'Water' 'Electric' 'Fairy'\n 'Normal' 'Fairy' 'Fairy' 'Psychic' 'Psychic' 'Electric' 'Electric'\n 'Electric' 'Electric' 'Grass' 'Water' 'Water' 'Rock' 'Water' 'Grass'\n 'Grass' 'Grass' 'Normal' 'Grass' 'Grass' 'Bug' 'Water' 'Water' 'Psychic'\n 'Dark' 'Dark' 'Water' 'Ghost' 'Psychic' 'Psychic' 'Normal' 'Bug' 'Bug'\n 'Normal' 'Ground' 'Steel' 'Steel' 'Fairy' 'Fairy' 'Water' 'Bug' 'Bug'\n 'Bug' 'Bug' 'Bug' 'Dark' 'Normal' 'Normal' 'Fire' 'Fire' 'Ice' 'Ice'\n 'Water' 'Water' 'Water' 'Ice' 'Water' 'Steel' 'Dark' 'Dark' 'Dark'\n 'Water' 'Ground' 'Ground' 'Normal' 'Normal' 'Normal' 'Fighting'\n 'Fighting' 'Ice' 'Electric' 'Fire' 'Normal' 'Normal' 'Electric' 'Fire'\n 'Water' 'Rock' 'Rock' 'Rock' 'Rock' 'Psychic' 'Fire' 'Psychic' 'Grass'\n 'Grass' 'Grass' 'Grass' 'Fire' 'Fire' 'Fire' 'Fire' 'Water' 'Water'\n 'Water' 'Water' 'Dark' 'Dark' 'Normal' 'Normal' 'Bug' 'Bug' 'Bug' 'Bug'\n 'Bug' 'Water' 'Water' 'Water' 'Grass' 'Grass' 'Grass' 'Normal' 'Normal'\n 'Water' 'Water' 'Psychic' 'Psychic' 'Psychic' 'Psychic' 'Bug' 'Bug'\n 'Grass' 'Grass' 'Normal' 'Normal' 'Normal' 'Bug' 'Bug' 'Bug' 'Normal'\n 'Normal' 'Normal' 'Fighting' 'Fighting' 'Normal' 'Rock' 'Normal' 'Normal'\n 'Dark' 'Dark' 'Steel' 'Steel' 'Steel' 'Steel' 'Steel' 'Steel' 'Fighting'\n 'Fighting' 'Fighting' 'Electric' 'Electric' 'Electric' 'Electric'\n 'Electric' 'Bug' 'Bug' 'Grass' 'Poison' 'Poison' 'Water' 'Water' 'Water'\n 'Water' 'Water' 'Fire' 'Fire' 'Fire' 'Fire' 'Psychic' 'Psychic' 'Normal'\n 'Ground' 'Ground' 'Ground' 'Grass' 'Grass' 'Normal' 'Dragon' 'Dragon'\n 'Normal' 'Poison' 'Rock' 'Rock' 'Water' 'Water' 'Water' 'Water' 'Ground'\n 'Ground' 'Rock' 'Rock' 'Rock' 'Rock' 'Water' 'Water' 'Normal' 'Normal'\n 'Ghost' 'Ghost' 'Ghost' 'Ghost' 'Ghost' 'Grass' 'Psychic' 'Dark' 'Dark'\n 'Psychic' 'Ice' 'Ice' 'Ice' 'Ice' 'Ice' 'Ice' 'Water' 'Water' 'Water'\n 'Water' 'Water' 'Dragon' 'Dragon' 'Dragon' 'Dragon' 'Steel' 'Steel'\n 'Steel' 'Steel' 'Rock' 'Ice' 'Steel' 'Dragon' 'Dragon' 'Dragon' 'Dragon'\n 'Water' 'Water' 'Ground' 'Ground' 'Dragon' 'Dragon' 'Steel' 'Psychic'\n 'Psychic' 'Psychic' 'Psychic' 'Grass' 'Grass' 'Grass' 'Fire' 'Fire'\n 'Fire' 'Water' 'Water' 'Water' 'Normal' 'Normal' 'Normal' 'Normal'\n 'Normal' 'Bug' 'Bug' 'Electric' 'Electric' 'Electric' 'Grass' 'Grass'\n 'Rock' 'Rock' 'Rock' 'Rock' 'Bug' 'Bug' 'Bug' 'Bug' 'Bug' 'Bug' 'Bug'\n 'Electric' 'Water' 'Water' 'Grass' 'Grass' 'Water' 'Water' 'Normal'\n 'Ghost' 'Ghost' 'Normal' 'Normal' 'Normal' 'Ghost' 'Dark' 'Normal'\n 'Normal' 'Psychic' 'Poison' 'Poison' 'Steel' 'Steel' 'Rock' 'Psychic'\n 'Normal' 'Normal' 'Ghost' 'Dragon' 'Dragon' 'Dragon' 'Dragon' 'Normal'\n 'Fighting' 'Fighting' 'Fighting' 'Ground' 'Ground' 'Poison' 'Poison'\n 'Poison' 'Poison' 'Grass' 'Water' 'Water' 'Water' 'Grass' 'Grass' 'Grass'\n 'Dark' 'Electric' 'Normal' 'Ground' 'Grass' 'Electric' 'Fire' 'Fairy'\n 'Bug' 'Grass' 'Ice' 'Ground' 'Ice' 'Normal' 'Psychic' 'Psychic' 'Rock'\n 'Ghost' 'Ice' 'Electric' 'Electric' 'Electric' 'Electric' 'Electric'\n 'Electric' 'Psychic' 'Psychic' 'Psychic' 'Steel' 'Water' 'Fire' 'Normal'\n 'Ghost' 'Ghost' 'Psychic' 'Water' 'Water' 'Dark' 'Grass' 'Grass' 'Normal'\n 'Psychic' 'Grass' 'Grass' 'Grass' 'Fire' 'Fire' 'Fire' 'Water' 'Water'\n 'Water' 'Normal' 'Normal' 'Normal' 'Normal' 'Normal' 'Dark' 'Dark'\n 'Grass' 'Grass' 'Fire' 'Fire' 'Water' 'Water' 'Psychic' 'Psychic'\n 'Normal' 'Normal' 'Normal' 'Electric' 'Electric' 'Rock' 'Rock' 'Rock'\n 'Psychic' 'Psychic' 'Ground' 'Ground' 'Normal' 'Normal' 'Fighting'\n 'Fighting' 'Fighting' 'Water' 'Water' 'Water' 'Fighting' 'Fighting' 'Bug'\n 'Bug' 'Bug' 'Bug' 'Bug' 'Bug' 'Grass' 'Grass' 'Grass' 'Grass' 'Water'\n 'Ground' 'Ground' 'Ground' 'Fire' 'Fire' 'Fire' 'Grass' 'Bug' 'Bug'\n 'Dark' 'Dark' 'Psychic' 'Ghost' 'Ghost' 'Water' 'Water' 'Rock' 'Rock'\n 'Poison' 'Poison' 'Dark' 'Dark' 'Normal' 'Normal' 'Psychic' 'Psychic'\n 'Psychic' 'Psychic' 'Psychic' 'Psychic' 'Water' 'Water' 'Ice' 'Ice' 'Ice'\n 'Normal' 'Normal' 'Electric' 'Bug' 'Bug' 'Grass' 'Grass' 'Water' 'Water'\n 'Water' 'Bug' 'Bug' 'Grass' 'Grass' 'Steel' 'Steel' 'Steel' 'Electric'\n 'Electric' 'Electric' 'Psychic' 'Psychic' 'Ghost' 'Ghost' 'Ghost'\n 'Dragon' 'Dragon' 'Dragon' 'Ice' 'Ice' 'Ice' 'Bug' 'Bug' 'Ground'\n 'Fighting' 'Fighting' 'Dragon' 'Ground' 'Ground' 'Dark' 'Dark' 'Normal'\n 'Normal' 'Normal' 'Dark' 'Dark' 'Fire' 'Bug' 'Dark' 'Dark' 'Dark' 'Bug'\n 'Bug' 'Steel' 'Rock' 'Grass' 'Flying' 'Flying' 'Electric' 'Electric'\n 'Dragon' 'Dragon' 'Ground' 'Ground' 'Dragon' 'Dragon' 'Dragon' 'Water'\n 'Water' 'Normal' 'Normal' 'Bug' 'Grass' 'Grass' 'Grass' 'Fire' 'Fire'\n 'Fire' 'Water' 'Water' 'Water' 'Normal' 'Normal' 'Normal' 'Fire' 'Fire'\n 'Bug' 'Bug' 'Bug' 'Fire' 'Fire' 'Fairy' 'Fairy' 'Fairy' 'Grass' 'Grass'\n 'Fighting' 'Fighting' 'Normal' 'Psychic' 'Psychic' 'Psychic' 'Steel'\n 'Steel' 'Steel' 'Steel' 'Fairy' 'Fairy' 'Fairy' 'Fairy' 'Dark' 'Dark'\n 'Rock' 'Rock' 'Poison' 'Poison' 'Water' 'Water' 'Electric' 'Electric'\n 'Rock' 'Rock' 'Rock' 'Rock' 'Fairy' 'Fighting' 'Electric' 'Rock' 'Dragon'\n 'Dragon' 'Dragon' 'Steel' 'Ghost' 'Ghost' 'Ghost' 'Ghost' 'Ghost' 'Ghost'\n 'Ghost' 'Ghost' 'Ghost' 'Ghost' 'Ice' 'Ice' 'Flying' 'Flying' 'Fairy'\n 'Dark' 'Dragon' 'Rock' 'Rock' 'Psychic' 'Psychic' 'Fire'].\nReshape your data either using array.reshape(-1, 1) if your data has a single feature or array.reshape(1, -1) if it contains a single sample.",
     "output_type": "error",
     "traceback": [
      "\u001b[0;31m---------------------------------------------------------------------------\u001b[0m",
      "\u001b[0;31mValueError\u001b[0m                                Traceback (most recent call last)",
      "Cell \u001b[0;32mIn[16], line 4\u001b[0m\n\u001b[1;32m      1\u001b[0m \u001b[38;5;66;03m# encoding\u001b[39;00m\n\u001b[1;32m      2\u001b[0m \u001b[38;5;28;01mfrom\u001b[39;00m \u001b[38;5;21;01msklearn\u001b[39;00m\u001b[38;5;21;01m.\u001b[39;00m\u001b[38;5;21;01mpreprocessing\u001b[39;00m \u001b[38;5;28;01mimport\u001b[39;00m OneHotEncoder\n\u001b[0;32m----> 4\u001b[0m encoder \u001b[38;5;241m=\u001b[39m OneHotEncoder()\u001b[38;5;241m.\u001b[39mfit(pokemon[\u001b[38;5;124m'\u001b[39m\u001b[38;5;124mType 1\u001b[39m\u001b[38;5;124m'\u001b[39m])\n\u001b[1;32m      6\u001b[0m encoded \u001b[38;5;241m=\u001b[39m encoder\u001b[38;5;241m.\u001b[39mtransform(pokemon[\u001b[38;5;124m'\u001b[39m\u001b[38;5;124mType 1\u001b[39m\u001b[38;5;124m'\u001b[39m])\u001b[38;5;241m.\u001b[39mtoarray()\n\u001b[1;32m      8\u001b[0m onehot_encoded \u001b[38;5;241m=\u001b[39m pd\u001b[38;5;241m.\u001b[39mDataFrame(encoded,columns\u001b[38;5;241m=\u001b[39m[\u001b[38;5;124m'\u001b[39m\u001b[38;5;124mGrass\u001b[39m\u001b[38;5;124m'\u001b[39m, \u001b[38;5;124m'\u001b[39m\u001b[38;5;124mFire\u001b[39m\u001b[38;5;124m'\u001b[39m, \u001b[38;5;124m'\u001b[39m\u001b[38;5;124mWater\u001b[39m\u001b[38;5;124m'\u001b[39m, \u001b[38;5;124m'\u001b[39m\u001b[38;5;124mBug\u001b[39m\u001b[38;5;124m'\u001b[39m, \u001b[38;5;124m'\u001b[39m\u001b[38;5;124mNormal\u001b[39m\u001b[38;5;124m'\u001b[39m, \u001b[38;5;124m'\u001b[39m\u001b[38;5;124mPoison\u001b[39m\u001b[38;5;124m'\u001b[39m, \u001b[38;5;124m'\u001b[39m\u001b[38;5;124mElectric\u001b[39m\u001b[38;5;124m'\u001b[39m,\n\u001b[1;32m      9\u001b[0m        \u001b[38;5;124m'\u001b[39m\u001b[38;5;124mGround\u001b[39m\u001b[38;5;124m'\u001b[39m, \u001b[38;5;124m'\u001b[39m\u001b[38;5;124mFairy\u001b[39m\u001b[38;5;124m'\u001b[39m, \u001b[38;5;124m'\u001b[39m\u001b[38;5;124mFighting\u001b[39m\u001b[38;5;124m'\u001b[39m, \u001b[38;5;124m'\u001b[39m\u001b[38;5;124mPsychic\u001b[39m\u001b[38;5;124m'\u001b[39m, \u001b[38;5;124m'\u001b[39m\u001b[38;5;124mRock\u001b[39m\u001b[38;5;124m'\u001b[39m, \u001b[38;5;124m'\u001b[39m\u001b[38;5;124mGhost\u001b[39m\u001b[38;5;124m'\u001b[39m, \u001b[38;5;124m'\u001b[39m\u001b[38;5;124mIce\u001b[39m\u001b[38;5;124m'\u001b[39m,\n\u001b[1;32m     10\u001b[0m        \u001b[38;5;124m'\u001b[39m\u001b[38;5;124mDragon\u001b[39m\u001b[38;5;124m'\u001b[39m, \u001b[38;5;124m'\u001b[39m\u001b[38;5;124mDark\u001b[39m\u001b[38;5;124m'\u001b[39m, \u001b[38;5;124m'\u001b[39m\u001b[38;5;124mSteel\u001b[39m\u001b[38;5;124m'\u001b[39m, \u001b[38;5;124m'\u001b[39m\u001b[38;5;124mFlying\u001b[39m\u001b[38;5;124m'\u001b[39m])\n",
      "File \u001b[0;32m~/anaconda3/lib/python3.11/site-packages/sklearn/base.py:1151\u001b[0m, in \u001b[0;36m_fit_context.<locals>.decorator.<locals>.wrapper\u001b[0;34m(estimator, *args, **kwargs)\u001b[0m\n\u001b[1;32m   1144\u001b[0m     estimator\u001b[38;5;241m.\u001b[39m_validate_params()\n\u001b[1;32m   1146\u001b[0m \u001b[38;5;28;01mwith\u001b[39;00m config_context(\n\u001b[1;32m   1147\u001b[0m     skip_parameter_validation\u001b[38;5;241m=\u001b[39m(\n\u001b[1;32m   1148\u001b[0m         prefer_skip_nested_validation \u001b[38;5;129;01mor\u001b[39;00m global_skip_validation\n\u001b[1;32m   1149\u001b[0m     )\n\u001b[1;32m   1150\u001b[0m ):\n\u001b[0;32m-> 1151\u001b[0m     \u001b[38;5;28;01mreturn\u001b[39;00m fit_method(estimator, \u001b[38;5;241m*\u001b[39margs, \u001b[38;5;241m*\u001b[39m\u001b[38;5;241m*\u001b[39mkwargs)\n",
      "File \u001b[0;32m~/anaconda3/lib/python3.11/site-packages/sklearn/preprocessing/_encoders.py:982\u001b[0m, in \u001b[0;36mOneHotEncoder.fit\u001b[0;34m(self, X, y)\u001b[0m\n\u001b[1;32m    972\u001b[0m     warnings\u001b[38;5;241m.\u001b[39mwarn(\n\u001b[1;32m    973\u001b[0m         (\n\u001b[1;32m    974\u001b[0m             \u001b[38;5;124m\"\u001b[39m\u001b[38;5;124m`sparse` was renamed to `sparse_output` in version 1.2 and \u001b[39m\u001b[38;5;124m\"\u001b[39m\n\u001b[0;32m   (...)\u001b[0m\n\u001b[1;32m    978\u001b[0m         \u001b[38;5;167;01mFutureWarning\u001b[39;00m,\n\u001b[1;32m    979\u001b[0m     )\n\u001b[1;32m    980\u001b[0m     \u001b[38;5;28mself\u001b[39m\u001b[38;5;241m.\u001b[39msparse_output \u001b[38;5;241m=\u001b[39m \u001b[38;5;28mself\u001b[39m\u001b[38;5;241m.\u001b[39msparse\n\u001b[0;32m--> 982\u001b[0m \u001b[38;5;28mself\u001b[39m\u001b[38;5;241m.\u001b[39m_fit(\n\u001b[1;32m    983\u001b[0m     X,\n\u001b[1;32m    984\u001b[0m     handle_unknown\u001b[38;5;241m=\u001b[39m\u001b[38;5;28mself\u001b[39m\u001b[38;5;241m.\u001b[39mhandle_unknown,\n\u001b[1;32m    985\u001b[0m     force_all_finite\u001b[38;5;241m=\u001b[39m\u001b[38;5;124m\"\u001b[39m\u001b[38;5;124mallow-nan\u001b[39m\u001b[38;5;124m\"\u001b[39m,\n\u001b[1;32m    986\u001b[0m )\n\u001b[1;32m    987\u001b[0m \u001b[38;5;28mself\u001b[39m\u001b[38;5;241m.\u001b[39m_set_drop_idx()\n\u001b[1;32m    988\u001b[0m \u001b[38;5;28mself\u001b[39m\u001b[38;5;241m.\u001b[39m_n_features_outs \u001b[38;5;241m=\u001b[39m \u001b[38;5;28mself\u001b[39m\u001b[38;5;241m.\u001b[39m_compute_n_features_outs()\n",
      "File \u001b[0;32m~/anaconda3/lib/python3.11/site-packages/sklearn/preprocessing/_encoders.py:77\u001b[0m, in \u001b[0;36m_BaseEncoder._fit\u001b[0;34m(self, X, handle_unknown, force_all_finite, return_counts, return_and_ignore_missing_for_infrequent)\u001b[0m\n\u001b[1;32m     75\u001b[0m \u001b[38;5;28mself\u001b[39m\u001b[38;5;241m.\u001b[39m_check_n_features(X, reset\u001b[38;5;241m=\u001b[39m\u001b[38;5;28;01mTrue\u001b[39;00m)\n\u001b[1;32m     76\u001b[0m \u001b[38;5;28mself\u001b[39m\u001b[38;5;241m.\u001b[39m_check_feature_names(X, reset\u001b[38;5;241m=\u001b[39m\u001b[38;5;28;01mTrue\u001b[39;00m)\n\u001b[0;32m---> 77\u001b[0m X_list, n_samples, n_features \u001b[38;5;241m=\u001b[39m \u001b[38;5;28mself\u001b[39m\u001b[38;5;241m.\u001b[39m_check_X(\n\u001b[1;32m     78\u001b[0m     X, force_all_finite\u001b[38;5;241m=\u001b[39mforce_all_finite\n\u001b[1;32m     79\u001b[0m )\n\u001b[1;32m     80\u001b[0m \u001b[38;5;28mself\u001b[39m\u001b[38;5;241m.\u001b[39mn_features_in_ \u001b[38;5;241m=\u001b[39m n_features\n\u001b[1;32m     82\u001b[0m \u001b[38;5;28;01mif\u001b[39;00m \u001b[38;5;28mself\u001b[39m\u001b[38;5;241m.\u001b[39mcategories \u001b[38;5;241m!=\u001b[39m \u001b[38;5;124m\"\u001b[39m\u001b[38;5;124mauto\u001b[39m\u001b[38;5;124m\"\u001b[39m:\n",
      "File \u001b[0;32m~/anaconda3/lib/python3.11/site-packages/sklearn/preprocessing/_encoders.py:43\u001b[0m, in \u001b[0;36m_BaseEncoder._check_X\u001b[0;34m(self, X, force_all_finite)\u001b[0m\n\u001b[1;32m     30\u001b[0m \u001b[38;5;250m\u001b[39m\u001b[38;5;124;03m\"\"\"\u001b[39;00m\n\u001b[1;32m     31\u001b[0m \u001b[38;5;124;03mPerform custom check_array:\u001b[39;00m\n\u001b[1;32m     32\u001b[0m \u001b[38;5;124;03m- convert list of strings to object dtype\u001b[39;00m\n\u001b[0;32m   (...)\u001b[0m\n\u001b[1;32m     39\u001b[0m \n\u001b[1;32m     40\u001b[0m \u001b[38;5;124;03m\"\"\"\u001b[39;00m\n\u001b[1;32m     41\u001b[0m \u001b[38;5;28;01mif\u001b[39;00m \u001b[38;5;129;01mnot\u001b[39;00m (\u001b[38;5;28mhasattr\u001b[39m(X, \u001b[38;5;124m\"\u001b[39m\u001b[38;5;124miloc\u001b[39m\u001b[38;5;124m\"\u001b[39m) \u001b[38;5;129;01mand\u001b[39;00m \u001b[38;5;28mgetattr\u001b[39m(X, \u001b[38;5;124m\"\u001b[39m\u001b[38;5;124mndim\u001b[39m\u001b[38;5;124m\"\u001b[39m, \u001b[38;5;241m0\u001b[39m) \u001b[38;5;241m==\u001b[39m \u001b[38;5;241m2\u001b[39m):\n\u001b[1;32m     42\u001b[0m     \u001b[38;5;66;03m# if not a dataframe, do normal check_array validation\u001b[39;00m\n\u001b[0;32m---> 43\u001b[0m     X_temp \u001b[38;5;241m=\u001b[39m check_array(X, dtype\u001b[38;5;241m=\u001b[39m\u001b[38;5;28;01mNone\u001b[39;00m, force_all_finite\u001b[38;5;241m=\u001b[39mforce_all_finite)\n\u001b[1;32m     44\u001b[0m     \u001b[38;5;28;01mif\u001b[39;00m \u001b[38;5;129;01mnot\u001b[39;00m \u001b[38;5;28mhasattr\u001b[39m(X, \u001b[38;5;124m\"\u001b[39m\u001b[38;5;124mdtype\u001b[39m\u001b[38;5;124m\"\u001b[39m) \u001b[38;5;129;01mand\u001b[39;00m np\u001b[38;5;241m.\u001b[39missubdtype(X_temp\u001b[38;5;241m.\u001b[39mdtype, np\u001b[38;5;241m.\u001b[39mstr_):\n\u001b[1;32m     45\u001b[0m         X \u001b[38;5;241m=\u001b[39m check_array(X, dtype\u001b[38;5;241m=\u001b[39m\u001b[38;5;28mobject\u001b[39m, force_all_finite\u001b[38;5;241m=\u001b[39mforce_all_finite)\n",
      "File \u001b[0;32m~/anaconda3/lib/python3.11/site-packages/sklearn/utils/validation.py:940\u001b[0m, in \u001b[0;36mcheck_array\u001b[0;34m(array, accept_sparse, accept_large_sparse, dtype, order, copy, force_all_finite, ensure_2d, allow_nd, ensure_min_samples, ensure_min_features, estimator, input_name)\u001b[0m\n\u001b[1;32m    938\u001b[0m     \u001b[38;5;66;03m# If input is 1D raise error\u001b[39;00m\n\u001b[1;32m    939\u001b[0m     \u001b[38;5;28;01mif\u001b[39;00m array\u001b[38;5;241m.\u001b[39mndim \u001b[38;5;241m==\u001b[39m \u001b[38;5;241m1\u001b[39m:\n\u001b[0;32m--> 940\u001b[0m         \u001b[38;5;28;01mraise\u001b[39;00m \u001b[38;5;167;01mValueError\u001b[39;00m(\n\u001b[1;32m    941\u001b[0m             \u001b[38;5;124m\"\u001b[39m\u001b[38;5;124mExpected 2D array, got 1D array instead:\u001b[39m\u001b[38;5;130;01m\\n\u001b[39;00m\u001b[38;5;124marray=\u001b[39m\u001b[38;5;132;01m{}\u001b[39;00m\u001b[38;5;124m.\u001b[39m\u001b[38;5;130;01m\\n\u001b[39;00m\u001b[38;5;124m\"\u001b[39m\n\u001b[1;32m    942\u001b[0m             \u001b[38;5;124m\"\u001b[39m\u001b[38;5;124mReshape your data either using array.reshape(-1, 1) if \u001b[39m\u001b[38;5;124m\"\u001b[39m\n\u001b[1;32m    943\u001b[0m             \u001b[38;5;124m\"\u001b[39m\u001b[38;5;124myour data has a single feature or array.reshape(1, -1) \u001b[39m\u001b[38;5;124m\"\u001b[39m\n\u001b[1;32m    944\u001b[0m             \u001b[38;5;124m\"\u001b[39m\u001b[38;5;124mif it contains a single sample.\u001b[39m\u001b[38;5;124m\"\u001b[39m\u001b[38;5;241m.\u001b[39mformat(array)\n\u001b[1;32m    945\u001b[0m         )\n\u001b[1;32m    947\u001b[0m \u001b[38;5;28;01mif\u001b[39;00m dtype_numeric \u001b[38;5;129;01mand\u001b[39;00m \u001b[38;5;28mhasattr\u001b[39m(array\u001b[38;5;241m.\u001b[39mdtype, \u001b[38;5;124m\"\u001b[39m\u001b[38;5;124mkind\u001b[39m\u001b[38;5;124m\"\u001b[39m) \u001b[38;5;129;01mand\u001b[39;00m array\u001b[38;5;241m.\u001b[39mdtype\u001b[38;5;241m.\u001b[39mkind \u001b[38;5;129;01min\u001b[39;00m \u001b[38;5;124m\"\u001b[39m\u001b[38;5;124mUSV\u001b[39m\u001b[38;5;124m\"\u001b[39m:\n\u001b[1;32m    948\u001b[0m     \u001b[38;5;28;01mraise\u001b[39;00m \u001b[38;5;167;01mValueError\u001b[39;00m(\n\u001b[1;32m    949\u001b[0m         \u001b[38;5;124m\"\u001b[39m\u001b[38;5;124mdtype=\u001b[39m\u001b[38;5;124m'\u001b[39m\u001b[38;5;124mnumeric\u001b[39m\u001b[38;5;124m'\u001b[39m\u001b[38;5;124m is not compatible with arrays of bytes/strings.\u001b[39m\u001b[38;5;124m\"\u001b[39m\n\u001b[1;32m    950\u001b[0m         \u001b[38;5;124m\"\u001b[39m\u001b[38;5;124mConvert your data to numeric values explicitly instead.\u001b[39m\u001b[38;5;124m\"\u001b[39m\n\u001b[1;32m    951\u001b[0m     )\n",
      "\u001b[0;31mValueError\u001b[0m: Expected 2D array, got 1D array instead:\narray=['Grass' 'Grass' 'Grass' 'Grass' 'Fire' 'Fire' 'Fire' 'Fire' 'Fire'\n 'Water' 'Water' 'Water' 'Water' 'Bug' 'Bug' 'Bug' 'Bug' 'Bug' 'Bug' 'Bug'\n 'Normal' 'Normal' 'Normal' 'Normal' 'Normal' 'Normal' 'Normal' 'Normal'\n 'Poison' 'Poison' 'Electric' 'Electric' 'Ground' 'Ground' 'Poison'\n 'Poison' 'Poison' 'Poison' 'Poison' 'Poison' 'Fairy' 'Fairy' 'Fire'\n 'Fire' 'Normal' 'Normal' 'Poison' 'Poison' 'Grass' 'Grass' 'Grass' 'Bug'\n 'Bug' 'Bug' 'Bug' 'Ground' 'Ground' 'Normal' 'Normal' 'Water' 'Water'\n 'Fighting' 'Fighting' 'Fire' 'Fire' 'Water' 'Water' 'Water' 'Psychic'\n 'Psychic' 'Psychic' 'Psychic' 'Fighting' 'Fighting' 'Fighting' 'Grass'\n 'Grass' 'Grass' 'Water' 'Water' 'Rock' 'Rock' 'Rock' 'Fire' 'Fire'\n 'Water' 'Water' 'Water' 'Electric' 'Electric' 'Normal' 'Normal' 'Normal'\n 'Water' 'Water' 'Poison' 'Poison' 'Water' 'Water' 'Ghost' 'Ghost' 'Ghost'\n 'Ghost' 'Rock' 'Psychic' 'Psychic' 'Water' 'Water' 'Electric' 'Electric'\n 'Grass' 'Grass' 'Ground' 'Ground' 'Fighting' 'Fighting' 'Normal' 'Poison'\n 'Poison' 'Ground' 'Ground' 'Normal' 'Grass' 'Normal' 'Normal' 'Water'\n 'Water' 'Water' 'Water' 'Water' 'Water' 'Psychic' 'Bug' 'Ice' 'Electric'\n 'Fire' 'Bug' 'Bug' 'Normal' 'Water' 'Water' 'Water' 'Water' 'Normal'\n 'Normal' 'Water' 'Electric' 'Fire' 'Normal' 'Rock' 'Rock' 'Rock' 'Rock'\n 'Rock' 'Rock' 'Normal' 'Ice' 'Electric' 'Fire' 'Dragon' 'Dragon' 'Dragon'\n 'Psychic' 'Psychic' 'Psychic' 'Psychic' 'Grass' 'Grass' 'Grass' 'Fire'\n 'Fire' 'Fire' 'Water' 'Water' 'Water' 'Normal' 'Normal' 'Normal' 'Normal'\n 'Bug' 'Bug' 'Bug' 'Bug' 'Poison' 'Water' 'Water' 'Electric' 'Fairy'\n 'Normal' 'Fairy' 'Fairy' 'Psychic' 'Psychic' 'Electric' 'Electric'\n 'Electric' 'Electric' 'Grass' 'Water' 'Water' 'Rock' 'Water' 'Grass'\n 'Grass' 'Grass' 'Normal' 'Grass' 'Grass' 'Bug' 'Water' 'Water' 'Psychic'\n 'Dark' 'Dark' 'Water' 'Ghost' 'Psychic' 'Psychic' 'Normal' 'Bug' 'Bug'\n 'Normal' 'Ground' 'Steel' 'Steel' 'Fairy' 'Fairy' 'Water' 'Bug' 'Bug'\n 'Bug' 'Bug' 'Bug' 'Dark' 'Normal' 'Normal' 'Fire' 'Fire' 'Ice' 'Ice'\n 'Water' 'Water' 'Water' 'Ice' 'Water' 'Steel' 'Dark' 'Dark' 'Dark'\n 'Water' 'Ground' 'Ground' 'Normal' 'Normal' 'Normal' 'Fighting'\n 'Fighting' 'Ice' 'Electric' 'Fire' 'Normal' 'Normal' 'Electric' 'Fire'\n 'Water' 'Rock' 'Rock' 'Rock' 'Rock' 'Psychic' 'Fire' 'Psychic' 'Grass'\n 'Grass' 'Grass' 'Grass' 'Fire' 'Fire' 'Fire' 'Fire' 'Water' 'Water'\n 'Water' 'Water' 'Dark' 'Dark' 'Normal' 'Normal' 'Bug' 'Bug' 'Bug' 'Bug'\n 'Bug' 'Water' 'Water' 'Water' 'Grass' 'Grass' 'Grass' 'Normal' 'Normal'\n 'Water' 'Water' 'Psychic' 'Psychic' 'Psychic' 'Psychic' 'Bug' 'Bug'\n 'Grass' 'Grass' 'Normal' 'Normal' 'Normal' 'Bug' 'Bug' 'Bug' 'Normal'\n 'Normal' 'Normal' 'Fighting' 'Fighting' 'Normal' 'Rock' 'Normal' 'Normal'\n 'Dark' 'Dark' 'Steel' 'Steel' 'Steel' 'Steel' 'Steel' 'Steel' 'Fighting'\n 'Fighting' 'Fighting' 'Electric' 'Electric' 'Electric' 'Electric'\n 'Electric' 'Bug' 'Bug' 'Grass' 'Poison' 'Poison' 'Water' 'Water' 'Water'\n 'Water' 'Water' 'Fire' 'Fire' 'Fire' 'Fire' 'Psychic' 'Psychic' 'Normal'\n 'Ground' 'Ground' 'Ground' 'Grass' 'Grass' 'Normal' 'Dragon' 'Dragon'\n 'Normal' 'Poison' 'Rock' 'Rock' 'Water' 'Water' 'Water' 'Water' 'Ground'\n 'Ground' 'Rock' 'Rock' 'Rock' 'Rock' 'Water' 'Water' 'Normal' 'Normal'\n 'Ghost' 'Ghost' 'Ghost' 'Ghost' 'Ghost' 'Grass' 'Psychic' 'Dark' 'Dark'\n 'Psychic' 'Ice' 'Ice' 'Ice' 'Ice' 'Ice' 'Ice' 'Water' 'Water' 'Water'\n 'Water' 'Water' 'Dragon' 'Dragon' 'Dragon' 'Dragon' 'Steel' 'Steel'\n 'Steel' 'Steel' 'Rock' 'Ice' 'Steel' 'Dragon' 'Dragon' 'Dragon' 'Dragon'\n 'Water' 'Water' 'Ground' 'Ground' 'Dragon' 'Dragon' 'Steel' 'Psychic'\n 'Psychic' 'Psychic' 'Psychic' 'Grass' 'Grass' 'Grass' 'Fire' 'Fire'\n 'Fire' 'Water' 'Water' 'Water' 'Normal' 'Normal' 'Normal' 'Normal'\n 'Normal' 'Bug' 'Bug' 'Electric' 'Electric' 'Electric' 'Grass' 'Grass'\n 'Rock' 'Rock' 'Rock' 'Rock' 'Bug' 'Bug' 'Bug' 'Bug' 'Bug' 'Bug' 'Bug'\n 'Electric' 'Water' 'Water' 'Grass' 'Grass' 'Water' 'Water' 'Normal'\n 'Ghost' 'Ghost' 'Normal' 'Normal' 'Normal' 'Ghost' 'Dark' 'Normal'\n 'Normal' 'Psychic' 'Poison' 'Poison' 'Steel' 'Steel' 'Rock' 'Psychic'\n 'Normal' 'Normal' 'Ghost' 'Dragon' 'Dragon' 'Dragon' 'Dragon' 'Normal'\n 'Fighting' 'Fighting' 'Fighting' 'Ground' 'Ground' 'Poison' 'Poison'\n 'Poison' 'Poison' 'Grass' 'Water' 'Water' 'Water' 'Grass' 'Grass' 'Grass'\n 'Dark' 'Electric' 'Normal' 'Ground' 'Grass' 'Electric' 'Fire' 'Fairy'\n 'Bug' 'Grass' 'Ice' 'Ground' 'Ice' 'Normal' 'Psychic' 'Psychic' 'Rock'\n 'Ghost' 'Ice' 'Electric' 'Electric' 'Electric' 'Electric' 'Electric'\n 'Electric' 'Psychic' 'Psychic' 'Psychic' 'Steel' 'Water' 'Fire' 'Normal'\n 'Ghost' 'Ghost' 'Psychic' 'Water' 'Water' 'Dark' 'Grass' 'Grass' 'Normal'\n 'Psychic' 'Grass' 'Grass' 'Grass' 'Fire' 'Fire' 'Fire' 'Water' 'Water'\n 'Water' 'Normal' 'Normal' 'Normal' 'Normal' 'Normal' 'Dark' 'Dark'\n 'Grass' 'Grass' 'Fire' 'Fire' 'Water' 'Water' 'Psychic' 'Psychic'\n 'Normal' 'Normal' 'Normal' 'Electric' 'Electric' 'Rock' 'Rock' 'Rock'\n 'Psychic' 'Psychic' 'Ground' 'Ground' 'Normal' 'Normal' 'Fighting'\n 'Fighting' 'Fighting' 'Water' 'Water' 'Water' 'Fighting' 'Fighting' 'Bug'\n 'Bug' 'Bug' 'Bug' 'Bug' 'Bug' 'Grass' 'Grass' 'Grass' 'Grass' 'Water'\n 'Ground' 'Ground' 'Ground' 'Fire' 'Fire' 'Fire' 'Grass' 'Bug' 'Bug'\n 'Dark' 'Dark' 'Psychic' 'Ghost' 'Ghost' 'Water' 'Water' 'Rock' 'Rock'\n 'Poison' 'Poison' 'Dark' 'Dark' 'Normal' 'Normal' 'Psychic' 'Psychic'\n 'Psychic' 'Psychic' 'Psychic' 'Psychic' 'Water' 'Water' 'Ice' 'Ice' 'Ice'\n 'Normal' 'Normal' 'Electric' 'Bug' 'Bug' 'Grass' 'Grass' 'Water' 'Water'\n 'Water' 'Bug' 'Bug' 'Grass' 'Grass' 'Steel' 'Steel' 'Steel' 'Electric'\n 'Electric' 'Electric' 'Psychic' 'Psychic' 'Ghost' 'Ghost' 'Ghost'\n 'Dragon' 'Dragon' 'Dragon' 'Ice' 'Ice' 'Ice' 'Bug' 'Bug' 'Ground'\n 'Fighting' 'Fighting' 'Dragon' 'Ground' 'Ground' 'Dark' 'Dark' 'Normal'\n 'Normal' 'Normal' 'Dark' 'Dark' 'Fire' 'Bug' 'Dark' 'Dark' 'Dark' 'Bug'\n 'Bug' 'Steel' 'Rock' 'Grass' 'Flying' 'Flying' 'Electric' 'Electric'\n 'Dragon' 'Dragon' 'Ground' 'Ground' 'Dragon' 'Dragon' 'Dragon' 'Water'\n 'Water' 'Normal' 'Normal' 'Bug' 'Grass' 'Grass' 'Grass' 'Fire' 'Fire'\n 'Fire' 'Water' 'Water' 'Water' 'Normal' 'Normal' 'Normal' 'Fire' 'Fire'\n 'Bug' 'Bug' 'Bug' 'Fire' 'Fire' 'Fairy' 'Fairy' 'Fairy' 'Grass' 'Grass'\n 'Fighting' 'Fighting' 'Normal' 'Psychic' 'Psychic' 'Psychic' 'Steel'\n 'Steel' 'Steel' 'Steel' 'Fairy' 'Fairy' 'Fairy' 'Fairy' 'Dark' 'Dark'\n 'Rock' 'Rock' 'Poison' 'Poison' 'Water' 'Water' 'Electric' 'Electric'\n 'Rock' 'Rock' 'Rock' 'Rock' 'Fairy' 'Fighting' 'Electric' 'Rock' 'Dragon'\n 'Dragon' 'Dragon' 'Steel' 'Ghost' 'Ghost' 'Ghost' 'Ghost' 'Ghost' 'Ghost'\n 'Ghost' 'Ghost' 'Ghost' 'Ghost' 'Ice' 'Ice' 'Flying' 'Flying' 'Fairy'\n 'Dark' 'Dragon' 'Rock' 'Rock' 'Psychic' 'Psychic' 'Fire'].\nReshape your data either using array.reshape(-1, 1) if your data has a single feature or array.reshape(1, -1) if it contains a single sample."
     ]
    }
   ],
   "source": [
    "\n",
    "# encoding\n",
    "from sklearn.preprocessing import OneHotEncoder\n",
    "\n",
    "encoder = OneHotEncoder().fit(pokemon['Type 1'])\n",
    "\n",
    "encoded = encoder.transform(pokemon['Type 1']).toarray()\n",
    "\n",
    "onehot_encoded = pd.DataFrame(encoded,columns=['Grass', 'Fire', 'Water', 'Bug', 'Normal', 'Poison', 'Electric',\n",
    "       'Ground', 'Fairy', 'Fighting', 'Psychic', 'Rock', 'Ghost', 'Ice',\n",
    "       'Dragon', 'Dark', 'Steel', 'Flying'])\n",
    "\n",
    "onehot_encoded.head(10)"
   ]
  },
  {
   "cell_type": "markdown",
   "metadata": {},
   "source": [
    "## Problem Solving Iteration 3\n",
    "\n",
    "Now we have encoded the pokemon types, we will identify the relationship between `Total` and the encoded fields. Our expectation is:\n",
    "\n",
    "#### There are relationships between `Total` and the encoded pokemon type variables and we need to identify the correlations.\n",
    "\n",
    "The information we need to collect is:\n",
    "\n",
    "#### How to identify the relationship between `Total` and the encoded pokemon type fields?\n",
    "\n",
    "There are multiple ways to answer this question. The easiest way is to use correlation. In the cell below, calculate the correlation of `Total` to each of the encoded fields. Rank the correlations and identify the #1 pokemon type that is most likely to have the highest `Total`."
   ]
  },
  {
   "cell_type": "code",
   "execution_count": null,
   "metadata": {},
   "outputs": [],
   "source": [
    "# your code here"
   ]
  },
  {
   "cell_type": "markdown",
   "metadata": {},
   "source": [
    "# Bonus Question\n",
    "\n",
    "Say now you can choose both `Type 1` and `Type 2` of the pokemon. In order to receive the best pokemon, which types will you choose?"
   ]
  },
  {
   "cell_type": "code",
   "execution_count": null,
   "metadata": {},
   "outputs": [],
   "source": [
    "# your code here"
   ]
  }
 ],
 "metadata": {
  "kernelspec": {
   "display_name": "Python 3 (ipykernel)",
   "language": "python",
   "name": "python3"
  },
  "language_info": {
   "codemirror_mode": {
    "name": "ipython",
    "version": 3
   },
   "file_extension": ".py",
   "mimetype": "text/x-python",
   "name": "python",
   "nbconvert_exporter": "python",
   "pygments_lexer": "ipython3",
   "version": "3.11.5"
  }
 },
 "nbformat": 4,
 "nbformat_minor": 2
}
